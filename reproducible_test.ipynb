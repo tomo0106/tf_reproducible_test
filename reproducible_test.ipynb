{
  "nbformat": 4,
  "nbformat_minor": 0,
  "metadata": {
    "colab": {
      "name": "Reproducible_test.ipynb",
      "provenance": []
    },
    "kernelspec": {
      "name": "python3",
      "display_name": "Python 3"
    },
    "accelerator": "GPU"
  },
  "cells": [
    {
      "cell_type": "code",
      "metadata": {
        "id": "K1WhaS6qe46J"
      },
      "source": [
        "# 各種ライブラリの読み込み\n",
        "import tensorflow as tf\n",
        "import matplotlib.pyplot as plt\n",
        "import os\n",
        "import numpy as np"
      ],
      "execution_count": 1,
      "outputs": []
    },
    {
      "cell_type": "code",
      "metadata": {
        "id": "SWZmbNO0OgWa",
        "colab": {
          "base_uri": "https://localhost:8080/"
        },
        "outputId": "68c67899-f6c6-4374-c2a2-0b1d4dc9b279"
      },
      "source": [
        "# 割り当てられたGPUの確認，ランダムにGPUが割り振られるので，人と違う場合がある\n",
        "!nvidia-smi\n",
        "\n",
        "# Google colabのPythonバージョン確認，自分の環境であればいらないのでコメントアウトする\n",
        "!python3 --version # -> Python 3.6.9\n",
        "\n",
        "# TFのバージョン確認\n",
        "print(\"TensorFlow version -> \",tf.__version__) # TensorFlow version ->  2.3.0\n",
        "\n",
        "# Google colab用cudaバージョン確認\n",
        "!nvcc -V"
      ],
      "execution_count": 2,
      "outputs": [
        {
          "output_type": "stream",
          "text": [
            "Sun Apr 11 02:41:40 2021       \n",
            "+-----------------------------------------------------------------------------+\n",
            "| NVIDIA-SMI 460.67       Driver Version: 460.32.03    CUDA Version: 11.2     |\n",
            "|-------------------------------+----------------------+----------------------+\n",
            "| GPU  Name        Persistence-M| Bus-Id        Disp.A | Volatile Uncorr. ECC |\n",
            "| Fan  Temp  Perf  Pwr:Usage/Cap|         Memory-Usage | GPU-Util  Compute M. |\n",
            "|                               |                      |               MIG M. |\n",
            "|===============================+======================+======================|\n",
            "|   0  Tesla T4            Off  | 00000000:00:04.0 Off |                    0 |\n",
            "| N/A   65C    P8    11W /  70W |      0MiB / 15109MiB |      0%      Default |\n",
            "|                               |                      |                  N/A |\n",
            "+-------------------------------+----------------------+----------------------+\n",
            "                                                                               \n",
            "+-----------------------------------------------------------------------------+\n",
            "| Processes:                                                                  |\n",
            "|  GPU   GI   CI        PID   Type   Process name                  GPU Memory |\n",
            "|        ID   ID                                                   Usage      |\n",
            "|=============================================================================|\n",
            "|  No running processes found                                                 |\n",
            "+-----------------------------------------------------------------------------+\n",
            "Python 3.7.10\n",
            "TensorFlow version ->  2.4.1\n",
            "nvcc: NVIDIA (R) Cuda compiler driver\n",
            "Copyright (c) 2005-2020 NVIDIA Corporation\n",
            "Built on Wed_Jul_22_19:09:09_PDT_2020\n",
            "Cuda compilation tools, release 11.0, V11.0.221\n",
            "Build cuda_11.0_bu.TC445_37.28845127_0\n"
          ],
          "name": "stdout"
        }
      ]
    },
    {
      "cell_type": "code",
      "metadata": {
        "id": "FHQtaTHTOkEM"
      },
      "source": [
        "# GPU内の計算順を固定するかどうかのフラグを指定\n",
        "# 環境変数['TF_DETERMINISTIC_OPS']を'1'または'True'を設定することで固定できる\n",
        "os.environ['TF_DETERMINISTIC_OPS'] = '1'\n",
        "\n",
        "# グローバルシードの指定\n",
        "global_seed=1234\n",
        "tf.random.set_seed(global_seed)"
      ],
      "execution_count": 3,
      "outputs": []
    },
    {
      "cell_type": "code",
      "metadata": {
        "id": "is05k3s_OmzS",
        "colab": {
          "base_uri": "https://localhost:8080/"
        },
        "outputId": "7fb6a242-0310-4afe-a02b-ba1e4f248299"
      },
      "source": [
        "# データの読み込み\n",
        "(X_train,y_train),(X_test,y_test)=tf.keras.datasets.mnist.load_data()\n",
        "\n",
        "# データを[0~255]から[0~1]に整形\n",
        "X_train=(X_train).astype(np.float32)/255.\n",
        "X_test=(X_test).astype(np.float32)/255.\n",
        "\n",
        "# [batch,height,width]->[batch,height,width,channel]に整形．畳み込みに渡す行列は4次元を受け取る\n",
        "X_train = np.expand_dims(X_train, axis=3)   #(60000, 28, 28) ->(60000, 28, 28, 1)\n",
        "X_test = np.expand_dims(X_test, axis=3)     ##(10000, 28, 28) ->(10000, 28, 28, 1)\n",
        "y_train = tf.keras.utils.to_categorical(y_train, 10)    # [60000,] ->[10000,10]\n",
        "y_test = tf.keras.utils.to_categorical(y_test, 10)      # [10000,] ->[10000,10]"
      ],
      "execution_count": 4,
      "outputs": [
        {
          "output_type": "stream",
          "text": [
            "Downloading data from https://storage.googleapis.com/tensorflow/tf-keras-datasets/mnist.npz\n",
            "11493376/11490434 [==============================] - 0s 0us/step\n"
          ],
          "name": "stdout"
        }
      ]
    },
    {
      "cell_type": "code",
      "metadata": {
        "id": "SV-GdEwPOo2X"
      },
      "source": [
        "def show(a_img, cmap=None):\n",
        "    plt.figure()\n",
        "    plt.imshow(a_img, cmap=cmap)\n",
        "    plt.axis('off')\n",
        "    plt.show()"
      ],
      "execution_count": 5,
      "outputs": []
    },
    {
      "cell_type": "code",
      "metadata": {
        "id": "H95jpGBvOqsS",
        "colab": {
          "base_uri": "https://localhost:8080/"
        },
        "outputId": "8f3c9f19-24fe-4276-dc87-11a7076f194a"
      },
      "source": [
        "# 動作レベルシードの固定\n",
        "operation_lebel_seed=0\n",
        "# 乱数の初期化方法と，その際の乱数生成のためのシードを固定\n",
        "initializer=tf.keras.initializers.GlorotUniform(seed=operation_lebel_seed)\n",
        "sequential_model = tf.keras.Sequential([\n",
        "        tf.keras.layers.Input((28, 28, 1)),\n",
        "        tf.keras.layers.Conv2D(filters=8, kernel_size=3, strides=1, padding=\"valid\", activation=\"relu\",kernel_initializer=initializer),\n",
        "        tf.keras.layers.MaxPool2D(2),\n",
        "        tf.keras.layers.Conv2D(filters=16, kernel_size=3, strides=1, padding=\"valid\", activation=\"relu\",kernel_initializer=initializer),\n",
        "        tf.keras.layers.MaxPool2D(2),\n",
        "        tf.keras.layers.Conv2D(filters=32, kernel_size=3, strides=1, padding=\"valid\", activation=\"relu\",kernel_initializer=initializer),\n",
        "        tf.keras.layers.Flatten(),\n",
        "        tf.keras.layers.Dense(128, activation=\"relu\",kernel_initializer=initializer),\n",
        "        tf.keras.layers.Dense(10,kernel_initializer=initializer),\n",
        "        tf.keras.layers.Softmax()\n",
        "    ])\n",
        "#モデル構造をprint\n",
        "sequential_model.summary()"
      ],
      "execution_count": 6,
      "outputs": [
        {
          "output_type": "stream",
          "text": [
            "Model: \"sequential\"\n",
            "_________________________________________________________________\n",
            "Layer (type)                 Output Shape              Param #   \n",
            "=================================================================\n",
            "conv2d (Conv2D)              (None, 26, 26, 8)         80        \n",
            "_________________________________________________________________\n",
            "max_pooling2d (MaxPooling2D) (None, 13, 13, 8)         0         \n",
            "_________________________________________________________________\n",
            "conv2d_1 (Conv2D)            (None, 11, 11, 16)        1168      \n",
            "_________________________________________________________________\n",
            "max_pooling2d_1 (MaxPooling2 (None, 5, 5, 16)          0         \n",
            "_________________________________________________________________\n",
            "conv2d_2 (Conv2D)            (None, 3, 3, 32)          4640      \n",
            "_________________________________________________________________\n",
            "flatten (Flatten)            (None, 288)               0         \n",
            "_________________________________________________________________\n",
            "dense (Dense)                (None, 128)               36992     \n",
            "_________________________________________________________________\n",
            "dense_1 (Dense)              (None, 10)                1290      \n",
            "_________________________________________________________________\n",
            "softmax (Softmax)            (None, 10)                0         \n",
            "=================================================================\n",
            "Total params: 44,170\n",
            "Trainable params: 44,170\n",
            "Non-trainable params: 0\n",
            "_________________________________________________________________\n"
          ],
          "name": "stdout"
        }
      ]
    },
    {
      "cell_type": "code",
      "metadata": {
        "id": "dV9A11BmdYpU",
        "colab": {
          "base_uri": "https://localhost:8080/"
        },
        "outputId": "d65e8f64-1c00-419d-b3af-560cd4e4b8c3"
      },
      "source": [
        "inputs = tf.keras.layers.Input((28, 28, 1))\n",
        "x = tf.keras.layers.Conv2D(filters=8, kernel_size=3, strides=1, padding=\"valid\", activation=\"relu\",kernel_initializer=initializer)(inputs)\n",
        "x = tf.keras.layers.MaxPool2D(2)(x)\n",
        "x = tf.keras.layers.Conv2D(filters=16, kernel_size=3, strides=1, padding=\"valid\", activation=\"relu\",kernel_initializer=initializer)(x)\n",
        "x = tf.keras.layers.MaxPool2D(2)(x)\n",
        "x = tf.keras.layers.Conv2D(filters=32, kernel_size=3, strides=1, padding=\"valid\", activation=\"relu\",kernel_initializer=initializer)(x)\n",
        "x = tf.keras.layers.Flatten()(x)\n",
        "x = tf.keras.layers.Dense(128, activation=\"relu\",kernel_initializer=initializer)(x)\n",
        "x = tf.keras.layers.Dense(10,kernel_initializer=initializer)(x)\n",
        "x = tf.keras.layers.Softmax()(x)\n",
        "functional_model = tf.keras.Model(inputs, x)\n",
        "functional_model.summary()"
      ],
      "execution_count": 7,
      "outputs": [
        {
          "output_type": "stream",
          "text": [
            "Model: \"model\"\n",
            "_________________________________________________________________\n",
            "Layer (type)                 Output Shape              Param #   \n",
            "=================================================================\n",
            "input_2 (InputLayer)         [(None, 28, 28, 1)]       0         \n",
            "_________________________________________________________________\n",
            "conv2d_3 (Conv2D)            (None, 26, 26, 8)         80        \n",
            "_________________________________________________________________\n",
            "max_pooling2d_2 (MaxPooling2 (None, 13, 13, 8)         0         \n",
            "_________________________________________________________________\n",
            "conv2d_4 (Conv2D)            (None, 11, 11, 16)        1168      \n",
            "_________________________________________________________________\n",
            "max_pooling2d_3 (MaxPooling2 (None, 5, 5, 16)          0         \n",
            "_________________________________________________________________\n",
            "conv2d_5 (Conv2D)            (None, 3, 3, 32)          4640      \n",
            "_________________________________________________________________\n",
            "flatten_1 (Flatten)          (None, 288)               0         \n",
            "_________________________________________________________________\n",
            "dense_2 (Dense)              (None, 128)               36992     \n",
            "_________________________________________________________________\n",
            "dense_3 (Dense)              (None, 10)                1290      \n",
            "_________________________________________________________________\n",
            "softmax_1 (Softmax)          (None, 10)                0         \n",
            "=================================================================\n",
            "Total params: 44,170\n",
            "Trainable params: 44,170\n",
            "Non-trainable params: 0\n",
            "_________________________________________________________________\n"
          ],
          "name": "stdout"
        }
      ]
    },
    {
      "cell_type": "code",
      "metadata": {
        "id": "9qcsPNKmOsui"
      },
      "source": [
        "# 誤差関数の設定\n",
        "loss_fn = tf.keras.losses.CategoricalCrossentropy(from_logits=True)\n",
        "# 最適化関数の設定\n",
        "seq_optimizer = tf.keras.optimizers.Adam()\n",
        "fun_optimizer=tf.keras.optimizers.Adam()\n",
        "# モデルのコンパイル\n",
        "sequential_model.compile(optimizer=seq_optimizer, loss=loss_fn, metrics=\"accuracy\")\n",
        "functional_model.compile(optimizer=fun_optimizer, loss=loss_fn, metrics=\"accuracy\")"
      ],
      "execution_count": 8,
      "outputs": []
    },
    {
      "cell_type": "code",
      "metadata": {
        "id": "GQsIuQf1OwdU",
        "colab": {
          "base_uri": "https://localhost:8080/",
          "height": 367
        },
        "outputId": "3767275f-ebbb-4591-bc08-7b91016c825e"
      },
      "source": [
        "# 画像の確認 -> 7\n",
        "show(np.squeeze(X_test[0]), cmap=\"gray\")\n",
        "# 処理結果は０始まりなので，8番目が数字の7の予測結果になる\n",
        "print(\"Sequential model's output before learning \", sequential_model(X_test[:1]))\n",
        "print(\"\\nFunctional model's output before learning \", functional_model(X_test[:1]))"
      ],
      "execution_count": 9,
      "outputs": [
        {
          "output_type": "display_data",
          "data": {
            "image/png": "[encoded data removed]",
            "text/plain": [
              "<Figure size 432x288 with 1 Axes>"
            ]
          },
          "metadata": {
            "tags": [],
            "needs_background": "light"
          }
        },
        {
          "output_type": "stream",
          "text": [
            "Sequential model's output before learning  tf.Tensor(\n",
            "[[0.10023712 0.11629906 0.10256145 0.0925817  0.09975537 0.10148698\n",
            "  0.08961983 0.10410066 0.10140332 0.09195449]], shape=(1, 10), dtype=float32)\n",
            "\n",
            "Functional model's output before learning  tf.Tensor(\n",
            "[[0.10023712 0.11629906 0.10256145 0.0925817  0.09975537 0.10148698\n",
            "  0.08961983 0.10410066 0.10140332 0.09195449]], shape=(1, 10), dtype=float32)\n"
          ],
          "name": "stdout"
        }
      ]
    },
    {
      "cell_type": "code",
      "metadata": {
        "id": "sgQqzUA8Oyfw",
        "colab": {
          "base_uri": "https://localhost:8080/"
        },
        "outputId": "00a20002-3432-4137-9525-f4b7b7de5123"
      },
      "source": [
        "sequential_model.fit(X_train, y_train, batch_size=16, epochs=3)"
      ],
      "execution_count": 10,
      "outputs": [
        {
          "output_type": "stream",
          "text": [
            "Epoch 1/3\n",
            "3750/3750 [==============================] - 17s 4ms/step - loss: 1.6198 - accuracy: 0.8551\n",
            "Epoch 2/3\n",
            "3750/3750 [==============================] - 16s 4ms/step - loss: 1.4895 - accuracy: 0.9728\n",
            "Epoch 3/3\n",
            "3750/3750 [==============================] - 16s 4ms/step - loss: 1.4861 - accuracy: 0.9753\n"
          ],
          "name": "stdout"
        },
        {
          "output_type": "execute_result",
          "data": {
            "text/plain": [
              "<tensorflow.python.keras.callbacks.History at 0x7ff37818f650>"
            ]
          },
          "metadata": {
            "tags": []
          },
          "execution_count": 10
        }
      ]
    },
    {
      "cell_type": "code",
      "metadata": {
        "id": "yqqSfWSud41Q",
        "colab": {
          "base_uri": "https://localhost:8080/"
        },
        "outputId": "698c50cb-03a5-41bd-b76b-755d13f26ccb"
      },
      "source": [
        "functional_model.fit(X_train, y_train, batch_size=16, epochs=3)"
      ],
      "execution_count": 11,
      "outputs": [
        {
          "output_type": "stream",
          "text": [
            "Epoch 1/3\n",
            "3750/3750 [==============================] - 16s 4ms/step - loss: 1.6198 - accuracy: 0.8551\n",
            "Epoch 2/3\n",
            "3750/3750 [==============================] - 16s 4ms/step - loss: 1.4895 - accuracy: 0.9728\n",
            "Epoch 3/3\n",
            "3750/3750 [==============================] - 16s 4ms/step - loss: 1.4861 - accuracy: 0.9753\n"
          ],
          "name": "stdout"
        },
        {
          "output_type": "execute_result",
          "data": {
            "text/plain": [
              "<tensorflow.python.keras.callbacks.History at 0x7ff3706ce610>"
            ]
          },
          "metadata": {
            "tags": []
          },
          "execution_count": 11
        }
      ]
    },
    {
      "cell_type": "code",
      "metadata": {
        "id": "fyNNXgbDO4SI",
        "colab": {
          "base_uri": "https://localhost:8080/"
        },
        "outputId": "eeed4f01-8ec2-4abe-f58a-50faa1225c04"
      },
      "source": [
        "# 学習後の結果を確認\n",
        "print(\"Sequential model's output after learning \", sequential_model(X_test[:1]))\n",
        "print(\"\\nFunctional model's output after learning \", functional_model(X_test[:1]))\n",
        "\n",
        "# 精度の確認\n",
        "test_accuracy = tf.keras.metrics.CategoricalAccuracy(name='test_accuracy')\n",
        "y_pred_seq = sequential_model(X_test)\n",
        "test_accuracy(y_test, y_pred_seq)\n",
        "print(\"\\nSequential model test accuracy \", test_accuracy.result().numpy())\n",
        "\n",
        "test_accuracy = tf.keras.metrics.CategoricalAccuracy(name='test_accuracy')\n",
        "y_pred_fun = functional_model(X_test)\n",
        "test_accuracy(y_test, y_pred_fun)\n",
        "print(\"\\nFunctional model test accuracy \", test_accuracy.result().numpy())"
      ],
      "execution_count": 12,
      "outputs": [
        {
          "output_type": "stream",
          "text": [
            "Sequential model's output after learning  tf.Tensor(\n",
            "[[2.7142110e-29 6.9897501e-26 5.0706772e-22 4.3190319e-31 4.8621087e-34\n",
            "  9.4096050e-35 0.0000000e+00 1.0000000e+00 8.8773830e-36 2.1320022e-29]], shape=(1, 10), dtype=float32)\n",
            "\n",
            "Functional model's output after learning  tf.Tensor(\n",
            "[[2.7142110e-29 6.9897501e-26 5.0706772e-22 4.3190319e-31 4.8621087e-34\n",
            "  9.4096050e-35 0.0000000e+00 1.0000000e+00 8.8773830e-36 2.1320022e-29]], shape=(1, 10), dtype=float32)\n",
            "\n",
            "Sequential model test accuracy  0.9818\n",
            "\n",
            "Functional model test accuracy  0.9818\n"
          ],
          "name": "stdout"
        }
      ]
    },
    {
      "cell_type": "code",
      "metadata": {
        "id": "D7_h_YmFTW_I"
      },
      "source": [
        ""
      ],
      "execution_count": null,
      "outputs": []
    }
  ]
}